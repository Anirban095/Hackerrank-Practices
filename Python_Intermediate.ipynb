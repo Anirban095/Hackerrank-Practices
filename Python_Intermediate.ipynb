{
  "nbformat": 4,
  "nbformat_minor": 0,
  "metadata": {
    "colab": {
      "name": "Python_Intermediate.ipynb",
      "provenance": [],
      "toc_visible": true,
      "authorship_tag": "ABX9TyO8SOJiE5oKxpVReOBYz9l2",
      "include_colab_link": true
    },
    "kernelspec": {
      "name": "python3",
      "display_name": "Python 3"
    },
    "language_info": {
      "name": "python"
    }
  },
  "cells": [
    {
      "cell_type": "markdown",
      "metadata": {
        "id": "view-in-github",
        "colab_type": "text"
      },
      "source": [
        "<a href=\"https://colab.research.google.com/github/Anirban095/Hackerrank-Practices/blob/main/Python_Intermediate.ipynb\" target=\"_parent\"><img src=\"https://colab.research.google.com/assets/colab-badge.svg\" alt=\"Open In Colab\"/></a>"
      ]
    },
    {
      "cell_type": "markdown",
      "source": [
        ""
      ],
      "metadata": {
        "id": "fXVZtoqtR6-z"
      }
    },
    {
      "cell_type": "markdown",
      "source": [
        "# Collection Counter"
      ],
      "metadata": {
        "id": "pZRmO3rMR8P3"
      }
    },
    {
      "cell_type": "code",
      "execution_count": 2,
      "metadata": {
        "id": "XQ9de5WcNW9K"
      },
      "outputs": [],
      "source": [
        "from collections import Counter"
      ]
    },
    {
      "cell_type": "code",
      "source": [
        "myList = [1,1,2,3,4,5,3,2,3,4,2,1,2,3]"
      ],
      "metadata": {
        "id": "bT1xfsBgNZoX"
      },
      "execution_count": 3,
      "outputs": []
    },
    {
      "cell_type": "code",
      "source": [
        "print(Counter(myList))"
      ],
      "metadata": {
        "colab": {
          "base_uri": "https://localhost:8080/"
        },
        "id": "iFtdfA5VNkF5",
        "outputId": "cea63e0f-58cf-4aff-991b-0086ec58633b"
      },
      "execution_count": 4,
      "outputs": [
        {
          "output_type": "stream",
          "name": "stdout",
          "text": [
            "Counter({2: 4, 3: 4, 1: 3, 4: 2, 5: 1})\n"
          ]
        }
      ]
    },
    {
      "cell_type": "code",
      "source": [
        "print(Counter(myList).items())"
      ],
      "metadata": {
        "colab": {
          "base_uri": "https://localhost:8080/"
        },
        "id": "dlqj8lHzNmmG",
        "outputId": "4eb70ddd-7e76-466e-d9bf-5453f17d9503"
      },
      "execution_count": 5,
      "outputs": [
        {
          "output_type": "stream",
          "name": "stdout",
          "text": [
            "dict_items([(1, 3), (2, 4), (3, 4), (4, 2), (5, 1)])\n"
          ]
        }
      ]
    },
    {
      "cell_type": "code",
      "source": [
        "numShoes = int(input())\n",
        "shoes = Counter(map(int, input().split()))\n",
        "numCust = int(input())\n",
        "\n",
        "income = 0\n",
        "\n",
        "for i in range(numCust):\n",
        "  size, price = map(int, input().split())\n",
        "  if(shoes[size]):\n",
        "    income += price\n",
        "    shoes[size] -= 1\n",
        "print(income)"
      ],
      "metadata": {
        "colab": {
          "base_uri": "https://localhost:8080/"
        },
        "id": "S2-7w5tgNqo4",
        "outputId": "d7d4651f-a2fd-42f3-f8a0-549fba882b55"
      },
      "execution_count": 11,
      "outputs": [
        {
          "output_type": "stream",
          "name": "stdout",
          "text": [
            "10\n",
            "2 3 4 5 6 8 7 6 5 18\n",
            "3\n",
            "2 100\n",
            "2 500\n",
            "5 25\n",
            "125\n"
          ]
        }
      ]
    },
    {
      "cell_type": "code",
      "source": [
        ""
      ],
      "metadata": {
        "id": "weNUOPw8Rkx9"
      },
      "execution_count": null,
      "outputs": []
    }
  ]
}