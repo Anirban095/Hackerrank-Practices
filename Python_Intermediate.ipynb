{
  "nbformat": 4,
  "nbformat_minor": 0,
  "metadata": {
    "colab": {
      "name": "Python_Intermediate.ipynb",
      "provenance": [],
      "toc_visible": true,
      "authorship_tag": "ABX9TyPBjo1e9YAiXHwEVFSqqP8f",
      "include_colab_link": true
    },
    "kernelspec": {
      "name": "python3",
      "display_name": "Python 3"
    },
    "language_info": {
      "name": "python"
    }
  },
  "cells": [
    {
      "cell_type": "markdown",
      "metadata": {
        "id": "view-in-github",
        "colab_type": "text"
      },
      "source": [
        "<a href=\"https://colab.research.google.com/github/Anirban095/Hackerrank-Practices/blob/main/Python_Intermediate.ipynb\" target=\"_parent\"><img src=\"https://colab.research.google.com/assets/colab-badge.svg\" alt=\"Open In Colab\"/></a>"
      ]
    },
    {
      "cell_type": "markdown",
      "source": [
        ""
      ],
      "metadata": {
        "id": "fXVZtoqtR6-z"
      }
    },
    {
      "cell_type": "markdown",
      "source": [
        "# Collection Counter"
      ],
      "metadata": {
        "id": "pZRmO3rMR8P3"
      }
    },
    {
      "cell_type": "code",
      "execution_count": 2,
      "metadata": {
        "id": "XQ9de5WcNW9K"
      },
      "outputs": [],
      "source": [
        "from collections import Counter"
      ]
    },
    {
      "cell_type": "code",
      "source": [
        "myList = [1,1,2,3,4,5,3,2,3,4,2,1,2,3]"
      ],
      "metadata": {
        "id": "bT1xfsBgNZoX"
      },
      "execution_count": 3,
      "outputs": []
    },
    {
      "cell_type": "code",
      "source": [
        "print(Counter(myList))"
      ],
      "metadata": {
        "colab": {
          "base_uri": "https://localhost:8080/"
        },
        "id": "iFtdfA5VNkF5",
        "outputId": "cea63e0f-58cf-4aff-991b-0086ec58633b"
      },
      "execution_count": 4,
      "outputs": [
        {
          "output_type": "stream",
          "name": "stdout",
          "text": [
            "Counter({2: 4, 3: 4, 1: 3, 4: 2, 5: 1})\n"
          ]
        }
      ]
    },
    {
      "cell_type": "code",
      "source": [
        "print(Counter(myList).items())"
      ],
      "metadata": {
        "colab": {
          "base_uri": "https://localhost:8080/"
        },
        "id": "dlqj8lHzNmmG",
        "outputId": "4eb70ddd-7e76-466e-d9bf-5453f17d9503"
      },
      "execution_count": 5,
      "outputs": [
        {
          "output_type": "stream",
          "name": "stdout",
          "text": [
            "dict_items([(1, 3), (2, 4), (3, 4), (4, 2), (5, 1)])\n"
          ]
        }
      ]
    },
    {
      "cell_type": "code",
      "source": [
        "numShoes = int(input())\n",
        "shoes = Counter(map(int, input().split()))\n",
        "numCust = int(input())\n",
        "\n",
        "income = 0\n",
        "\n",
        "for i in range(numCust):\n",
        "  size, price = map(int, input().split())\n",
        "  if(shoes[size]):\n",
        "    income += price\n",
        "    shoes[size] -= 1\n",
        "print(income)"
      ],
      "metadata": {
        "colab": {
          "base_uri": "https://localhost:8080/"
        },
        "id": "S2-7w5tgNqo4",
        "outputId": "d7d4651f-a2fd-42f3-f8a0-549fba882b55"
      },
      "execution_count": 11,
      "outputs": [
        {
          "output_type": "stream",
          "name": "stdout",
          "text": [
            "10\n",
            "2 3 4 5 6 8 7 6 5 18\n",
            "3\n",
            "2 100\n",
            "2 500\n",
            "5 25\n",
            "125\n"
          ]
        }
      ]
    },
    {
      "cell_type": "code",
      "source": [
        ""
      ],
      "metadata": {
        "id": "weNUOPw8Rkx9"
      },
      "execution_count": null,
      "outputs": []
    },
    {
      "cell_type": "markdown",
      "source": [
        "# Company Logo"
      ],
      "metadata": {
        "id": "Y3BMj6TjTL9K"
      }
    },
    {
      "cell_type": "code",
      "source": [
        "logo_Counter = Counter(list(sorted('qwertyuiopasdfghjklzxcvbnm')))\n",
        "logo_Counter"
      ],
      "metadata": {
        "colab": {
          "base_uri": "https://localhost:8080/"
        },
        "id": "RWT0dRihTOX6",
        "outputId": "bb2ab5dc-68ae-4fa0-817d-e044b641e616"
      },
      "execution_count": 78,
      "outputs": [
        {
          "output_type": "execute_result",
          "data": {
            "text/plain": [
              "Counter({'a': 1,\n",
              "         'b': 1,\n",
              "         'c': 1,\n",
              "         'd': 1,\n",
              "         'e': 1,\n",
              "         'f': 1,\n",
              "         'g': 1,\n",
              "         'h': 1,\n",
              "         'i': 1,\n",
              "         'j': 1,\n",
              "         'k': 1,\n",
              "         'l': 1,\n",
              "         'm': 1,\n",
              "         'n': 1,\n",
              "         'o': 1,\n",
              "         'p': 1,\n",
              "         'q': 1,\n",
              "         'r': 1,\n",
              "         's': 1,\n",
              "         't': 1,\n",
              "         'u': 1,\n",
              "         'v': 1,\n",
              "         'w': 1,\n",
              "         'x': 1,\n",
              "         'y': 1,\n",
              "         'z': 1})"
            ]
          },
          "metadata": {},
          "execution_count": 78
        }
      ]
    },
    {
      "cell_type": "code",
      "source": [
        "logo_Counter.keys()"
      ],
      "metadata": {
        "colab": {
          "base_uri": "https://localhost:8080/"
        },
        "id": "dLjAO1D0XNHY",
        "outputId": "8489f4e9-7bbf-43fd-a94b-9ed3f52b056d"
      },
      "execution_count": 81,
      "outputs": [
        {
          "output_type": "execute_result",
          "data": {
            "text/plain": [
              "dict_keys(['a', 'b', 'c', 'd', 'e', 'f', 'g', 'h', 'i', 'j', 'k', 'l', 'm', 'n', 'o', 'p', 'q', 'r', 's', 't', 'u', 'v', 'w', 'x', 'y', 'z'])"
            ]
          },
          "metadata": {},
          "execution_count": 81
        }
      ]
    },
    {
      "cell_type": "code",
      "source": [
        "bruh = logo_Counter.most_common(3)\n",
        "bruh"
      ],
      "metadata": {
        "colab": {
          "base_uri": "https://localhost:8080/"
        },
        "id": "XFyUVdr5TY3A",
        "outputId": "b8a00ecd-109d-4f2c-92f7-00485c2bcbce"
      },
      "execution_count": 82,
      "outputs": [
        {
          "output_type": "execute_result",
          "data": {
            "text/plain": [
              "[('a', 1), ('b', 1), ('c', 1)]"
            ]
          },
          "metadata": {},
          "execution_count": 82
        }
      ]
    },
    {
      "cell_type": "code",
      "source": [
        "for i in range(3):\n",
        "  print(f'{bruh[i][0]} {bruh[i][1]}')"
      ],
      "metadata": {
        "colab": {
          "base_uri": "https://localhost:8080/"
        },
        "id": "ImOFXkXNX7Pv",
        "outputId": "58f13ff3-9ac2-4d06-fbb1-ade00d9d2ac4"
      },
      "execution_count": 83,
      "outputs": [
        {
          "output_type": "stream",
          "name": "stdout",
          "text": [
            "a 1\n",
            "b 1\n",
            "c 1\n"
          ]
        }
      ]
    },
    {
      "cell_type": "code",
      "source": [
        "def GetCompanyLogo(name):\n",
        "  myCounter = Counter(list(sorted(name)))\n",
        "  nameLen = len(myCounter)\n",
        "  top3 = myCounter.most_common(3)\n",
        "  range_index = 3\n",
        "  if(nameLen < 3):\n",
        "    range_index = nameLen\n",
        "  for i in range(range_index):\n",
        "    print(f'{top3[i][0]} {top3[i][1]}')\n"
      ],
      "metadata": {
        "id": "uQ7i5MeLUAax"
      },
      "execution_count": 88,
      "outputs": []
    },
    {
      "cell_type": "code",
      "source": [
        "GetCompanyLogo('qwertyuiopasdfghjklzxcvbnm')"
      ],
      "metadata": {
        "colab": {
          "base_uri": "https://localhost:8080/"
        },
        "id": "c45BhoLkVs3a",
        "outputId": "1b2e7399-957d-40af-e04a-caf02204dd76"
      },
      "execution_count": 89,
      "outputs": [
        {
          "output_type": "stream",
          "name": "stdout",
          "text": [
            "a 1\n",
            "b 1\n",
            "c 1\n"
          ]
        }
      ]
    },
    {
      "cell_type": "code",
      "source": [
        ""
      ],
      "metadata": {
        "id": "kyilkIZZYpBi"
      },
      "execution_count": null,
      "outputs": []
    },
    {
      "cell_type": "markdown",
      "source": [
        "# Cartesian product\n"
      ],
      "metadata": {
        "id": "lgVX_VxKcEJV"
      }
    },
    {
      "cell_type": "code",
      "source": [
        "list1 = list(input().split())\n",
        "list2 = list(input().split())\n",
        "print(list1)\n",
        "print(list2)"
      ],
      "metadata": {
        "colab": {
          "base_uri": "https://localhost:8080/"
        },
        "id": "6AHnWW7WcGGw",
        "outputId": "6afcfc5a-6f02-4967-d82d-c3e58ed8af99"
      },
      "execution_count": 95,
      "outputs": [
        {
          "output_type": "stream",
          "name": "stdout",
          "text": [
            "1 2\n",
            "3 4\n",
            "['1', '2']\n",
            "['3', '4']\n"
          ]
        }
      ]
    },
    {
      "cell_type": "code",
      "source": [
        "for i in list1:\n",
        "  for j in list2:\n",
        "    print(f'({i}, {j})', end=' ')"
      ],
      "metadata": {
        "colab": {
          "base_uri": "https://localhost:8080/"
        },
        "id": "BbAB-S6RcaH3",
        "outputId": "2594186b-1117-4d4a-9924-08c85c0aa0c8"
      },
      "execution_count": 104,
      "outputs": [
        {
          "output_type": "stream",
          "name": "stdout",
          "text": [
            "(1, 3) (1, 4) (2, 3) (2, 4) "
          ]
        }
      ]
    },
    {
      "cell_type": "code",
      "source": [
        ""
      ],
      "metadata": {
        "id": "YEyz6KUgeCB8"
      },
      "execution_count": null,
      "outputs": []
    }
  ]
}