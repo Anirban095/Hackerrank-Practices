{
  "nbformat": 4,
  "nbformat_minor": 0,
  "metadata": {
    "colab": {
      "name": "Python_Intermediate.ipynb",
      "provenance": [],
      "toc_visible": true,
      "include_colab_link": true
    },
    "kernelspec": {
      "name": "python3",
      "display_name": "Python 3"
    },
    "language_info": {
      "name": "python"
    }
  },
  "cells": [
    {
      "cell_type": "markdown",
      "metadata": {
        "id": "view-in-github",
        "colab_type": "text"
      },
      "source": [
        "<a href=\"https://colab.research.google.com/github/Anirban095/Hackerrank-Practices/blob/main/Python_Intermediate.ipynb\" target=\"_parent\"><img src=\"https://colab.research.google.com/assets/colab-badge.svg\" alt=\"Open In Colab\"/></a>"
      ]
    },
    {
      "cell_type": "markdown",
      "source": [
        ""
      ],
      "metadata": {
        "id": "fXVZtoqtR6-z"
      }
    },
    {
      "cell_type": "markdown",
      "source": [
        "# Collection Counter"
      ],
      "metadata": {
        "id": "pZRmO3rMR8P3"
      }
    },
    {
      "cell_type": "code",
      "execution_count": null,
      "metadata": {
        "id": "XQ9de5WcNW9K"
      },
      "outputs": [],
      "source": [
        "from collections import Counter"
      ]
    },
    {
      "cell_type": "code",
      "source": [
        "myList = [1,1,2,3,4,5,3,2,3,4,2,1,2,3]"
      ],
      "metadata": {
        "id": "bT1xfsBgNZoX"
      },
      "execution_count": null,
      "outputs": []
    },
    {
      "cell_type": "code",
      "source": [
        "print(Counter(myList))"
      ],
      "metadata": {
        "colab": {
          "base_uri": "https://localhost:8080/"
        },
        "id": "iFtdfA5VNkF5",
        "outputId": "cea63e0f-58cf-4aff-991b-0086ec58633b"
      },
      "execution_count": null,
      "outputs": [
        {
          "output_type": "stream",
          "name": "stdout",
          "text": [
            "Counter({2: 4, 3: 4, 1: 3, 4: 2, 5: 1})\n"
          ]
        }
      ]
    },
    {
      "cell_type": "code",
      "source": [
        "print(Counter(myList).items())"
      ],
      "metadata": {
        "colab": {
          "base_uri": "https://localhost:8080/"
        },
        "id": "dlqj8lHzNmmG",
        "outputId": "4eb70ddd-7e76-466e-d9bf-5453f17d9503"
      },
      "execution_count": null,
      "outputs": [
        {
          "output_type": "stream",
          "name": "stdout",
          "text": [
            "dict_items([(1, 3), (2, 4), (3, 4), (4, 2), (5, 1)])\n"
          ]
        }
      ]
    },
    {
      "cell_type": "code",
      "source": [
        "numShoes = int(input())\n",
        "shoes = Counter(map(int, input().split()))\n",
        "numCust = int(input())\n",
        "\n",
        "income = 0\n",
        "\n",
        "for i in range(numCust):\n",
        "  size, price = map(int, input().split())\n",
        "  if(shoes[size]):\n",
        "    income += price\n",
        "    shoes[size] -= 1\n",
        "print(income)"
      ],
      "metadata": {
        "colab": {
          "base_uri": "https://localhost:8080/"
        },
        "id": "S2-7w5tgNqo4",
        "outputId": "d7d4651f-a2fd-42f3-f8a0-549fba882b55"
      },
      "execution_count": null,
      "outputs": [
        {
          "output_type": "stream",
          "name": "stdout",
          "text": [
            "10\n",
            "2 3 4 5 6 8 7 6 5 18\n",
            "3\n",
            "2 100\n",
            "2 500\n",
            "5 25\n",
            "125\n"
          ]
        }
      ]
    },
    {
      "cell_type": "code",
      "source": [
        ""
      ],
      "metadata": {
        "id": "weNUOPw8Rkx9"
      },
      "execution_count": null,
      "outputs": []
    },
    {
      "cell_type": "markdown",
      "source": [
        "# Company Logo"
      ],
      "metadata": {
        "id": "Y3BMj6TjTL9K"
      }
    },
    {
      "cell_type": "code",
      "source": [
        "logo_Counter = Counter(list(sorted('qwertyuiopasdfghjklzxcvbnm')))\n",
        "logo_Counter"
      ],
      "metadata": {
        "colab": {
          "base_uri": "https://localhost:8080/"
        },
        "id": "RWT0dRihTOX6",
        "outputId": "bb2ab5dc-68ae-4fa0-817d-e044b641e616"
      },
      "execution_count": null,
      "outputs": [
        {
          "output_type": "execute_result",
          "data": {
            "text/plain": [
              "Counter({'a': 1,\n",
              "         'b': 1,\n",
              "         'c': 1,\n",
              "         'd': 1,\n",
              "         'e': 1,\n",
              "         'f': 1,\n",
              "         'g': 1,\n",
              "         'h': 1,\n",
              "         'i': 1,\n",
              "         'j': 1,\n",
              "         'k': 1,\n",
              "         'l': 1,\n",
              "         'm': 1,\n",
              "         'n': 1,\n",
              "         'o': 1,\n",
              "         'p': 1,\n",
              "         'q': 1,\n",
              "         'r': 1,\n",
              "         's': 1,\n",
              "         't': 1,\n",
              "         'u': 1,\n",
              "         'v': 1,\n",
              "         'w': 1,\n",
              "         'x': 1,\n",
              "         'y': 1,\n",
              "         'z': 1})"
            ]
          },
          "metadata": {},
          "execution_count": 78
        }
      ]
    },
    {
      "cell_type": "code",
      "source": [
        "logo_Counter.keys()"
      ],
      "metadata": {
        "colab": {
          "base_uri": "https://localhost:8080/"
        },
        "id": "dLjAO1D0XNHY",
        "outputId": "8489f4e9-7bbf-43fd-a94b-9ed3f52b056d"
      },
      "execution_count": null,
      "outputs": [
        {
          "output_type": "execute_result",
          "data": {
            "text/plain": [
              "dict_keys(['a', 'b', 'c', 'd', 'e', 'f', 'g', 'h', 'i', 'j', 'k', 'l', 'm', 'n', 'o', 'p', 'q', 'r', 's', 't', 'u', 'v', 'w', 'x', 'y', 'z'])"
            ]
          },
          "metadata": {},
          "execution_count": 81
        }
      ]
    },
    {
      "cell_type": "code",
      "source": [
        "bruh = logo_Counter.most_common(3)\n",
        "bruh"
      ],
      "metadata": {
        "colab": {
          "base_uri": "https://localhost:8080/"
        },
        "id": "XFyUVdr5TY3A",
        "outputId": "b8a00ecd-109d-4f2c-92f7-00485c2bcbce"
      },
      "execution_count": null,
      "outputs": [
        {
          "output_type": "execute_result",
          "data": {
            "text/plain": [
              "[('a', 1), ('b', 1), ('c', 1)]"
            ]
          },
          "metadata": {},
          "execution_count": 82
        }
      ]
    },
    {
      "cell_type": "code",
      "source": [
        "for i in range(3):\n",
        "  print(f'{bruh[i][0]} {bruh[i][1]}')"
      ],
      "metadata": {
        "colab": {
          "base_uri": "https://localhost:8080/"
        },
        "id": "ImOFXkXNX7Pv",
        "outputId": "58f13ff3-9ac2-4d06-fbb1-ade00d9d2ac4"
      },
      "execution_count": null,
      "outputs": [
        {
          "output_type": "stream",
          "name": "stdout",
          "text": [
            "a 1\n",
            "b 1\n",
            "c 1\n"
          ]
        }
      ]
    },
    {
      "cell_type": "code",
      "source": [
        "def GetCompanyLogo(name):\n",
        "  myCounter = Counter(list(sorted(name)))\n",
        "  nameLen = len(myCounter)\n",
        "  top3 = myCounter.most_common(3)\n",
        "  range_index = 3\n",
        "  if(nameLen < 3):\n",
        "    range_index = nameLen\n",
        "  for i in range(range_index):\n",
        "    print(f'{top3[i][0]} {top3[i][1]}')\n"
      ],
      "metadata": {
        "id": "uQ7i5MeLUAax"
      },
      "execution_count": null,
      "outputs": []
    },
    {
      "cell_type": "code",
      "source": [
        "GetCompanyLogo('qwertyuiopasdfghjklzxcvbnm')"
      ],
      "metadata": {
        "colab": {
          "base_uri": "https://localhost:8080/"
        },
        "id": "c45BhoLkVs3a",
        "outputId": "1b2e7399-957d-40af-e04a-caf02204dd76"
      },
      "execution_count": null,
      "outputs": [
        {
          "output_type": "stream",
          "name": "stdout",
          "text": [
            "a 1\n",
            "b 1\n",
            "c 1\n"
          ]
        }
      ]
    },
    {
      "cell_type": "code",
      "source": [
        ""
      ],
      "metadata": {
        "id": "kyilkIZZYpBi"
      },
      "execution_count": null,
      "outputs": []
    },
    {
      "cell_type": "markdown",
      "source": [
        "# Cartesian product\n"
      ],
      "metadata": {
        "id": "lgVX_VxKcEJV"
      }
    },
    {
      "cell_type": "code",
      "source": [
        "list1 = list(input().split())\n",
        "list2 = list(input().split())\n",
        "print(list1)\n",
        "print(list2)"
      ],
      "metadata": {
        "colab": {
          "base_uri": "https://localhost:8080/"
        },
        "id": "6AHnWW7WcGGw",
        "outputId": "6afcfc5a-6f02-4967-d82d-c3e58ed8af99"
      },
      "execution_count": null,
      "outputs": [
        {
          "output_type": "stream",
          "name": "stdout",
          "text": [
            "1 2\n",
            "3 4\n",
            "['1', '2']\n",
            "['3', '4']\n"
          ]
        }
      ]
    },
    {
      "cell_type": "code",
      "source": [
        "for i in list1:\n",
        "  for j in list2:\n",
        "    print(f'({i}, {j})', end=' ')"
      ],
      "metadata": {
        "colab": {
          "base_uri": "https://localhost:8080/"
        },
        "id": "BbAB-S6RcaH3",
        "outputId": "2594186b-1117-4d4a-9924-08c85c0aa0c8"
      },
      "execution_count": null,
      "outputs": [
        {
          "output_type": "stream",
          "name": "stdout",
          "text": [
            "(1, 3) (1, 4) (2, 3) (2, 4) "
          ]
        }
      ]
    },
    {
      "cell_type": "code",
      "source": [
        ""
      ],
      "metadata": {
        "id": "JvaJZvaG53z6"
      },
      "execution_count": null,
      "outputs": []
    },
    {
      "cell_type": "markdown",
      "source": [
        "# The Minion Game"
      ],
      "metadata": {
        "id": "T2hxdn-O54Oy"
      }
    },
    {
      "cell_type": "code",
      "source": [
        "s = input()\n",
        "\n",
        "vowels = 'AEIOU'\n",
        "\n",
        "kevsc = 0\n",
        "stusc = 0\n",
        "for i in range(len(s)):\n",
        "    if s[i].lower() in vowels.lower():\n",
        "        kevsc += (len(s)-i)\n",
        "    else:\n",
        "        stusc += (len(s)-i)\n",
        "\n",
        "if kevsc > stusc:\n",
        "    print(f'Kevin wins {kevsc}')\n",
        "elif kevsc < stusc:\n",
        "    print(f'Stuart wins {stusc}')\n",
        "else:\n",
        "    print('Draw')"
      ],
      "metadata": {
        "id": "YEyz6KUgeCB8",
        "outputId": "337f0ba4-67ce-4405-e4f7-66d075ca774f",
        "colab": {
          "base_uri": "https://localhost:8080/"
        }
      },
      "execution_count": 18,
      "outputs": [
        {
          "output_type": "stream",
          "name": "stdout",
          "text": [
            "banana\n",
            "Stuart wins 12\n"
          ]
        }
      ]
    },
    {
      "cell_type": "code",
      "source": [
        "string = 'BANANA'"
      ],
      "metadata": {
        "id": "9qjPELk_4cPe"
      },
      "execution_count": 15,
      "outputs": []
    },
    {
      "cell_type": "code",
      "source": [
        "for i in range(len(string)):\n",
        "  if string[i] in vowels:\n",
        "    print(f'Vowels: {len(string) - i}')\n",
        "  else:\n",
        "    print(f'Consonants: {len(string) - i}')"
      ],
      "metadata": {
        "id": "4wbIo3V-6GpR",
        "outputId": "3b393aa3-61dd-459b-84e4-e3fbdbd24463",
        "colab": {
          "base_uri": "https://localhost:8080/"
        }
      },
      "execution_count": 16,
      "outputs": [
        {
          "output_type": "stream",
          "name": "stdout",
          "text": [
            "Consonants: 6\n",
            "Vowels: 5\n",
            "Consonants: 4\n",
            "Vowels: 3\n",
            "Consonants: 2\n",
            "Vowels: 1\n"
          ]
        }
      ]
    },
    {
      "cell_type": "code",
      "source": [
        "vowels"
      ],
      "metadata": {
        "id": "HpHPdGvs6KtV",
        "outputId": "f3b12a02-1125-4637-c645-4b515ee4be17",
        "colab": {
          "base_uri": "https://localhost:8080/",
          "height": 35
        }
      },
      "execution_count": 11,
      "outputs": [
        {
          "output_type": "execute_result",
          "data": {
            "text/plain": [
              "'AEIOU'"
            ],
            "application/vnd.google.colaboratory.intrinsic+json": {
              "type": "string"
            }
          },
          "metadata": {},
          "execution_count": 11
        }
      ]
    },
    {
      "cell_type": "code",
      "source": [
        ""
      ],
      "metadata": {
        "id": "2jqL2lAA7Miq"
      },
      "execution_count": null,
      "outputs": []
    },
    {
      "cell_type": "markdown",
      "source": [
        "# Sets"
      ],
      "metadata": {
        "id": "GTlcWAX2_0R3"
      }
    },
    {
      "cell_type": "code",
      "source": [
        "tot_sets = int(input())\n",
        "\n",
        "for i in range(tot_sets):\n",
        "  len_setA = int(input())\n",
        "  setA = list(input().split())\n",
        "  len_setB = int(input())\n",
        "  setB = list(input().split())\n",
        "  print(isSubset(setA, setB))\n",
        "\n",
        "#for i in range(tot_sets):\n",
        " # print(IsSubset(list_setA[i], list_setB[i]))"
      ],
      "metadata": {
        "id": "odS__6M7_1sY",
        "outputId": "b5794d30-74c2-4cc7-9e5d-567e540ead29",
        "colab": {
          "base_uri": "https://localhost:8080/"
        }
      },
      "execution_count": 44,
      "outputs": [
        {
          "output_type": "stream",
          "name": "stdout",
          "text": [
            "3\n",
            "5\n",
            "1 2 3 4 5\n",
            "9\n",
            "9 8 5 6 3 2 1 4 7\n",
            "True\n",
            "1\n",
            "2\n",
            "5\n",
            "3 6 5 4 14\n",
            "False\n",
            "7\n",
            "1 2 3 5 6 8 9\n",
            "3\n",
            "9 8 2\n",
            "False\n"
          ]
        }
      ]
    },
    {
      "cell_type": "code",
      "source": [
        "def isSubset(setA, setB):\n",
        "  isSubset = False\n",
        "  for i in range(len(setA)):\n",
        "    if setA[i] in setB:\n",
        "      isSubset = True\n",
        "    else:\n",
        "      isSubset = False\n",
        "      break\n",
        "  return isSubset"
      ],
      "metadata": {
        "id": "h5eqQ73lBL9w"
      },
      "execution_count": 36,
      "outputs": []
    },
    {
      "cell_type": "code",
      "source": [
        ""
      ],
      "metadata": {
        "id": "8w8Wz_w7FWN-"
      },
      "execution_count": null,
      "outputs": []
    },
    {
      "cell_type": "code",
      "source": [
        "setA = list(input().split())\n",
        "tot_checkSet = int(input())\n",
        "isSuperSet = False\n",
        "for i in range(tot_checkSet):\n",
        "  checkSet = list(input().split())\n",
        "  if(isSubset(checkSet, setA)):\n",
        "    isSuperSet = True\n",
        "  else:\n",
        "    isSuperSet = False\n",
        "    break\n",
        "print(isSuperSet)\n"
      ],
      "metadata": {
        "id": "NlWg0Pi8DoKo",
        "outputId": "bd4ef686-f8df-4567-c036-e37ecfdfd2fe",
        "colab": {
          "base_uri": "https://localhost:8080/"
        }
      },
      "execution_count": 50,
      "outputs": [
        {
          "output_type": "stream",
          "name": "stdout",
          "text": [
            "1 2 3 4 5 6 7 8 9 10 11 12 23 45 84 78\n",
            "2\n",
            "1 2 3 4 5\n",
            "100 11 12\n",
            "False\n"
          ]
        }
      ]
    },
    {
      "cell_type": "code",
      "source": [
        "True and False"
      ],
      "metadata": {
        "id": "2ghkWF5KF_Kj",
        "outputId": "4ad27bc2-5085-41e7-92be-cab3ca0407d5",
        "colab": {
          "base_uri": "https://localhost:8080/"
        }
      },
      "execution_count": 47,
      "outputs": [
        {
          "output_type": "execute_result",
          "data": {
            "text/plain": [
              "False"
            ]
          },
          "metadata": {},
          "execution_count": 47
        }
      ]
    },
    {
      "cell_type": "code",
      "source": [
        ""
      ],
      "metadata": {
        "id": "nnc3f9R0GcGw"
      },
      "execution_count": null,
      "outputs": []
    },
    {
      "cell_type": "markdown",
      "source": [
        "# Math"
      ],
      "metadata": {
        "id": "K2DLJylMQIrG"
      }
    },
    {
      "cell_type": "code",
      "source": [
        "import cmath"
      ],
      "metadata": {
        "id": "s0WjNjDuQiZ_"
      },
      "execution_count": 56,
      "outputs": []
    },
    {
      "cell_type": "code",
      "source": [
        "cmath.phase(complex(1,2))"
      ],
      "metadata": {
        "id": "H_CFg0vUQKtV",
        "outputId": "4965667f-fd89-4c73-83c5-1d031f05e86e",
        "colab": {
          "base_uri": "https://localhost:8080/"
        }
      },
      "execution_count": 60,
      "outputs": [
        {
          "output_type": "execute_result",
          "data": {
            "text/plain": [
              "1.1071487177940904"
            ]
          },
          "metadata": {},
          "execution_count": 60
        }
      ]
    },
    {
      "cell_type": "code",
      "source": [
        "abs(complex(1,2))"
      ],
      "metadata": {
        "id": "AbAj87DdQ5P5",
        "outputId": "e11ce155-70af-4f93-a518-513b4ec5e09e",
        "colab": {
          "base_uri": "https://localhost:8080/"
        }
      },
      "execution_count": 61,
      "outputs": [
        {
          "output_type": "execute_result",
          "data": {
            "text/plain": [
              "2.23606797749979"
            ]
          },
          "metadata": {},
          "execution_count": 61
        }
      ]
    },
    {
      "cell_type": "code",
      "source": [
        "abs(complex(1 + 2j))"
      ],
      "metadata": {
        "id": "7C85zSMPRECY",
        "outputId": "e7f14559-e8b9-474a-ccde-4439d046c93f",
        "colab": {
          "base_uri": "https://localhost:8080/"
        }
      },
      "execution_count": 64,
      "outputs": [
        {
          "output_type": "execute_result",
          "data": {
            "text/plain": [
              "2.23606797749979"
            ]
          },
          "metadata": {},
          "execution_count": 64
        }
      ]
    },
    {
      "cell_type": "code",
      "source": [
        "str(round(math.degrees(math.atan2(10,20)))) + '°'"
      ],
      "metadata": {
        "id": "atMflrePRWkq",
        "outputId": "3e71870d-008c-4ba1-db13-4a10e92601c6",
        "colab": {
          "base_uri": "https://localhost:8080/",
          "height": 35
        }
      },
      "execution_count": 70,
      "outputs": [
        {
          "output_type": "execute_result",
          "data": {
            "text/plain": [
              "'27°'"
            ],
            "application/vnd.google.colaboratory.intrinsic+json": {
              "type": "string"
            }
          },
          "metadata": {},
          "execution_count": 70
        }
      ]
    },
    {
      "cell_type": "code",
      "source": [
        ""
      ],
      "metadata": {
        "id": "SwXu6nSXTRaf"
      },
      "execution_count": null,
      "outputs": []
    },
    {
      "cell_type": "code",
      "source": [
        "x, y = map(int, input().split())\n",
        "val = eval(input())\n",
        "print(val == y)"
      ],
      "metadata": {
        "id": "D6gySgP4a5ac",
        "outputId": "c0ade137-7841-4f4b-f924-da4844e8e5ef",
        "colab": {
          "base_uri": "https://localhost:8080/"
        }
      },
      "execution_count": 73,
      "outputs": [
        {
          "output_type": "stream",
          "name": "stdout",
          "text": [
            "1 3\n",
            "x**3 + x**2 + x + 1\n",
            "False\n"
          ]
        }
      ]
    },
    {
      "cell_type": "code",
      "source": [
        "eval(input())"
      ],
      "metadata": {
        "id": "xGyuVYWXbKFa",
        "outputId": "4806c320-381c-4538-c3dc-1c051e4479de",
        "colab": {
          "base_uri": "https://localhost:8080/"
        }
      },
      "execution_count": 74,
      "outputs": [
        {
          "output_type": "stream",
          "name": "stdout",
          "text": [
            "print(2+10)\n",
            "12\n"
          ]
        }
      ]
    },
    {
      "cell_type": "code",
      "source": [
        "a, myList = int(input()), input().split()\n",
        "print(all([int(i) > 0 for i in myList]) and any([j == j[::-1] for j in myList]))"
      ],
      "metadata": {
        "id": "OFVJ2no9cs2a",
        "outputId": "ad90a9d2-337d-406e-8c03-cd89c9f4e652",
        "colab": {
          "base_uri": "https://localhost:8080/"
        }
      },
      "execution_count": 91,
      "outputs": [
        {
          "output_type": "stream",
          "name": "stdout",
          "text": [
            "6\n",
            "1 2 3 4 5 -9\n",
            "False\n"
          ]
        }
      ]
    },
    {
      "cell_type": "code",
      "source": [
        "all([5 > 4 and 2==2])"
      ],
      "metadata": {
        "id": "0-njBn3wdnCo",
        "outputId": "063d88ef-674d-4bbf-8062-022087a9d938",
        "colab": {
          "base_uri": "https://localhost:8080/"
        }
      },
      "execution_count": 92,
      "outputs": [
        {
          "output_type": "execute_result",
          "data": {
            "text/plain": [
              "True"
            ]
          },
          "metadata": {},
          "execution_count": 92
        }
      ]
    },
    {
      "cell_type": "code",
      "source": [
        "print(zip([1, 2, 3, 4], 'hack'))"
      ],
      "metadata": {
        "id": "LvYIqWJDgP3C",
        "outputId": "0b984ae3-e9e4-4590-f606-7c0dc7a65129",
        "colab": {
          "base_uri": "https://localhost:8080/"
        }
      },
      "execution_count": 94,
      "outputs": [
        {
          "output_type": "stream",
          "name": "stdout",
          "text": [
            "<zip object at 0x7fb32546ce60>\n"
          ]
        }
      ]
    },
    {
      "cell_type": "code",
      "source": [
        ""
      ],
      "metadata": {
        "id": "9wqplt7YiMT_"
      },
      "execution_count": null,
      "outputs": []
    }
  ]
}