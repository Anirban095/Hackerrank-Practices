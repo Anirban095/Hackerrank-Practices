{
  "nbformat": 4,
  "nbformat_minor": 0,
  "metadata": {
    "colab": {
      "name": "Python_Intermediate.ipynb",
      "provenance": [],
      "toc_visible": true,
      "collapsed_sections": [
        "lgVX_VxKcEJV",
        "T2hxdn-O54Oy",
        "GTlcWAX2_0R3",
        "K2DLJylMQIrG",
        "xrkGEoYfC_RC"
      ],
      "include_colab_link": true
    },
    "kernelspec": {
      "name": "python3",
      "display_name": "Python 3"
    },
    "language_info": {
      "name": "python"
    }
  },
  "cells": [
    {
      "cell_type": "markdown",
      "metadata": {
        "id": "view-in-github",
        "colab_type": "text"
      },
      "source": [
        "<a href=\"https://colab.research.google.com/github/Anirban095/Hackerrank-Practices/blob/main/Python_Intermediate.ipynb\" target=\"_parent\"><img src=\"https://colab.research.google.com/assets/colab-badge.svg\" alt=\"Open In Colab\"/></a>"
      ]
    },
    {
      "cell_type": "markdown",
      "source": [
        ""
      ],
      "metadata": {
        "id": "fXVZtoqtR6-z"
      }
    },
    {
      "cell_type": "markdown",
      "source": [
        "# Collection Counter"
      ],
      "metadata": {
        "id": "pZRmO3rMR8P3"
      }
    },
    {
      "cell_type": "code",
      "execution_count": null,
      "metadata": {
        "id": "XQ9de5WcNW9K"
      },
      "outputs": [],
      "source": [
        "from collections import Counter"
      ]
    },
    {
      "cell_type": "code",
      "source": [
        "myList = [1,1,2,3,4,5,3,2,3,4,2,1,2,3]"
      ],
      "metadata": {
        "id": "bT1xfsBgNZoX"
      },
      "execution_count": null,
      "outputs": []
    },
    {
      "cell_type": "code",
      "source": [
        "print(Counter(myList))"
      ],
      "metadata": {
        "colab": {
          "base_uri": "https://localhost:8080/"
        },
        "id": "iFtdfA5VNkF5",
        "outputId": "cea63e0f-58cf-4aff-991b-0086ec58633b"
      },
      "execution_count": null,
      "outputs": [
        {
          "output_type": "stream",
          "name": "stdout",
          "text": [
            "Counter({2: 4, 3: 4, 1: 3, 4: 2, 5: 1})\n"
          ]
        }
      ]
    },
    {
      "cell_type": "code",
      "source": [
        "print(Counter(myList).items())"
      ],
      "metadata": {
        "colab": {
          "base_uri": "https://localhost:8080/"
        },
        "id": "dlqj8lHzNmmG",
        "outputId": "4eb70ddd-7e76-466e-d9bf-5453f17d9503"
      },
      "execution_count": null,
      "outputs": [
        {
          "output_type": "stream",
          "name": "stdout",
          "text": [
            "dict_items([(1, 3), (2, 4), (3, 4), (4, 2), (5, 1)])\n"
          ]
        }
      ]
    },
    {
      "cell_type": "code",
      "source": [
        "numShoes = int(input())\n",
        "shoes = Counter(map(int, input().split()))\n",
        "numCust = int(input())\n",
        "\n",
        "income = 0\n",
        "\n",
        "for i in range(numCust):\n",
        "  size, price = map(int, input().split())\n",
        "  if(shoes[size]):\n",
        "    income += price\n",
        "    shoes[size] -= 1\n",
        "print(income)"
      ],
      "metadata": {
        "colab": {
          "base_uri": "https://localhost:8080/"
        },
        "id": "S2-7w5tgNqo4",
        "outputId": "d7d4651f-a2fd-42f3-f8a0-549fba882b55"
      },
      "execution_count": null,
      "outputs": [
        {
          "output_type": "stream",
          "name": "stdout",
          "text": [
            "10\n",
            "2 3 4 5 6 8 7 6 5 18\n",
            "3\n",
            "2 100\n",
            "2 500\n",
            "5 25\n",
            "125\n"
          ]
        }
      ]
    },
    {
      "cell_type": "code",
      "source": [
        ""
      ],
      "metadata": {
        "id": "weNUOPw8Rkx9"
      },
      "execution_count": null,
      "outputs": []
    },
    {
      "cell_type": "markdown",
      "source": [
        "# Company Logo"
      ],
      "metadata": {
        "id": "Y3BMj6TjTL9K"
      }
    },
    {
      "cell_type": "code",
      "source": [
        "logo_Counter = Counter(list(sorted('qwertyuiopasdfghjklzxcvbnm')))\n",
        "logo_Counter"
      ],
      "metadata": {
        "colab": {
          "base_uri": "https://localhost:8080/"
        },
        "id": "RWT0dRihTOX6",
        "outputId": "bb2ab5dc-68ae-4fa0-817d-e044b641e616"
      },
      "execution_count": null,
      "outputs": [
        {
          "output_type": "execute_result",
          "data": {
            "text/plain": [
              "Counter({'a': 1,\n",
              "         'b': 1,\n",
              "         'c': 1,\n",
              "         'd': 1,\n",
              "         'e': 1,\n",
              "         'f': 1,\n",
              "         'g': 1,\n",
              "         'h': 1,\n",
              "         'i': 1,\n",
              "         'j': 1,\n",
              "         'k': 1,\n",
              "         'l': 1,\n",
              "         'm': 1,\n",
              "         'n': 1,\n",
              "         'o': 1,\n",
              "         'p': 1,\n",
              "         'q': 1,\n",
              "         'r': 1,\n",
              "         's': 1,\n",
              "         't': 1,\n",
              "         'u': 1,\n",
              "         'v': 1,\n",
              "         'w': 1,\n",
              "         'x': 1,\n",
              "         'y': 1,\n",
              "         'z': 1})"
            ]
          },
          "metadata": {},
          "execution_count": 78
        }
      ]
    },
    {
      "cell_type": "code",
      "source": [
        "logo_Counter.keys()"
      ],
      "metadata": {
        "colab": {
          "base_uri": "https://localhost:8080/"
        },
        "id": "dLjAO1D0XNHY",
        "outputId": "8489f4e9-7bbf-43fd-a94b-9ed3f52b056d"
      },
      "execution_count": null,
      "outputs": [
        {
          "output_type": "execute_result",
          "data": {
            "text/plain": [
              "dict_keys(['a', 'b', 'c', 'd', 'e', 'f', 'g', 'h', 'i', 'j', 'k', 'l', 'm', 'n', 'o', 'p', 'q', 'r', 's', 't', 'u', 'v', 'w', 'x', 'y', 'z'])"
            ]
          },
          "metadata": {},
          "execution_count": 81
        }
      ]
    },
    {
      "cell_type": "code",
      "source": [
        "bruh = logo_Counter.most_common(3)\n",
        "bruh"
      ],
      "metadata": {
        "colab": {
          "base_uri": "https://localhost:8080/"
        },
        "id": "XFyUVdr5TY3A",
        "outputId": "b8a00ecd-109d-4f2c-92f7-00485c2bcbce"
      },
      "execution_count": null,
      "outputs": [
        {
          "output_type": "execute_result",
          "data": {
            "text/plain": [
              "[('a', 1), ('b', 1), ('c', 1)]"
            ]
          },
          "metadata": {},
          "execution_count": 82
        }
      ]
    },
    {
      "cell_type": "code",
      "source": [
        "for i in range(3):\n",
        "  print(f'{bruh[i][0]} {bruh[i][1]}')"
      ],
      "metadata": {
        "colab": {
          "base_uri": "https://localhost:8080/"
        },
        "id": "ImOFXkXNX7Pv",
        "outputId": "58f13ff3-9ac2-4d06-fbb1-ade00d9d2ac4"
      },
      "execution_count": null,
      "outputs": [
        {
          "output_type": "stream",
          "name": "stdout",
          "text": [
            "a 1\n",
            "b 1\n",
            "c 1\n"
          ]
        }
      ]
    },
    {
      "cell_type": "code",
      "source": [
        "def GetCompanyLogo(name):\n",
        "  myCounter = Counter(list(sorted(name)))\n",
        "  nameLen = len(myCounter)\n",
        "  top3 = myCounter.most_common(3)\n",
        "  range_index = 3\n",
        "  if(nameLen < 3):\n",
        "    range_index = nameLen\n",
        "  for i in range(range_index):\n",
        "    print(f'{top3[i][0]} {top3[i][1]}')\n"
      ],
      "metadata": {
        "id": "uQ7i5MeLUAax"
      },
      "execution_count": null,
      "outputs": []
    },
    {
      "cell_type": "code",
      "source": [
        "GetCompanyLogo('qwertyuiopasdfghjklzxcvbnm')"
      ],
      "metadata": {
        "colab": {
          "base_uri": "https://localhost:8080/"
        },
        "id": "c45BhoLkVs3a",
        "outputId": "1b2e7399-957d-40af-e04a-caf02204dd76"
      },
      "execution_count": null,
      "outputs": [
        {
          "output_type": "stream",
          "name": "stdout",
          "text": [
            "a 1\n",
            "b 1\n",
            "c 1\n"
          ]
        }
      ]
    },
    {
      "cell_type": "code",
      "source": [
        ""
      ],
      "metadata": {
        "id": "kyilkIZZYpBi"
      },
      "execution_count": null,
      "outputs": []
    },
    {
      "cell_type": "markdown",
      "source": [
        "# Cartesian product\n"
      ],
      "metadata": {
        "id": "lgVX_VxKcEJV"
      }
    },
    {
      "cell_type": "code",
      "source": [
        "list1 = list(input().split())\n",
        "list2 = list(input().split())\n",
        "print(list1)\n",
        "print(list2)"
      ],
      "metadata": {
        "colab": {
          "base_uri": "https://localhost:8080/"
        },
        "id": "6AHnWW7WcGGw",
        "outputId": "6afcfc5a-6f02-4967-d82d-c3e58ed8af99"
      },
      "execution_count": null,
      "outputs": [
        {
          "output_type": "stream",
          "name": "stdout",
          "text": [
            "1 2\n",
            "3 4\n",
            "['1', '2']\n",
            "['3', '4']\n"
          ]
        }
      ]
    },
    {
      "cell_type": "code",
      "source": [
        "for i in list1:\n",
        "  for j in list2:\n",
        "    print(f'({i}, {j})', end=' ')"
      ],
      "metadata": {
        "colab": {
          "base_uri": "https://localhost:8080/"
        },
        "id": "BbAB-S6RcaH3",
        "outputId": "2594186b-1117-4d4a-9924-08c85c0aa0c8"
      },
      "execution_count": null,
      "outputs": [
        {
          "output_type": "stream",
          "name": "stdout",
          "text": [
            "(1, 3) (1, 4) (2, 3) (2, 4) "
          ]
        }
      ]
    },
    {
      "cell_type": "code",
      "source": [
        ""
      ],
      "metadata": {
        "id": "JvaJZvaG53z6"
      },
      "execution_count": null,
      "outputs": []
    },
    {
      "cell_type": "markdown",
      "source": [
        "# The Minion Game"
      ],
      "metadata": {
        "id": "T2hxdn-O54Oy"
      }
    },
    {
      "cell_type": "code",
      "source": [
        "s = input()\n",
        "\n",
        "vowels = 'AEIOU'\n",
        "\n",
        "kevsc = 0\n",
        "stusc = 0\n",
        "for i in range(len(s)):\n",
        "    if s[i].lower() in vowels.lower():\n",
        "        kevsc += (len(s)-i)\n",
        "    else:\n",
        "        stusc += (len(s)-i)\n",
        "\n",
        "if kevsc > stusc:\n",
        "    print(f'Kevin wins {kevsc}')\n",
        "elif kevsc < stusc:\n",
        "    print(f'Stuart wins {stusc}')\n",
        "else:\n",
        "    print('Draw')"
      ],
      "metadata": {
        "id": "YEyz6KUgeCB8",
        "outputId": "337f0ba4-67ce-4405-e4f7-66d075ca774f",
        "colab": {
          "base_uri": "https://localhost:8080/"
        }
      },
      "execution_count": null,
      "outputs": [
        {
          "output_type": "stream",
          "name": "stdout",
          "text": [
            "banana\n",
            "Stuart wins 12\n"
          ]
        }
      ]
    },
    {
      "cell_type": "code",
      "source": [
        "string = 'BANANA'"
      ],
      "metadata": {
        "id": "9qjPELk_4cPe"
      },
      "execution_count": null,
      "outputs": []
    },
    {
      "cell_type": "code",
      "source": [
        "for i in range(len(string)):\n",
        "  if string[i] in vowels:\n",
        "    print(f'Vowels: {len(string) - i}')\n",
        "  else:\n",
        "    print(f'Consonants: {len(string) - i}')"
      ],
      "metadata": {
        "id": "4wbIo3V-6GpR",
        "outputId": "3b393aa3-61dd-459b-84e4-e3fbdbd24463",
        "colab": {
          "base_uri": "https://localhost:8080/"
        }
      },
      "execution_count": null,
      "outputs": [
        {
          "output_type": "stream",
          "name": "stdout",
          "text": [
            "Consonants: 6\n",
            "Vowels: 5\n",
            "Consonants: 4\n",
            "Vowels: 3\n",
            "Consonants: 2\n",
            "Vowels: 1\n"
          ]
        }
      ]
    },
    {
      "cell_type": "code",
      "source": [
        "vowels"
      ],
      "metadata": {
        "id": "HpHPdGvs6KtV",
        "outputId": "f3b12a02-1125-4637-c645-4b515ee4be17",
        "colab": {
          "base_uri": "https://localhost:8080/",
          "height": 35
        }
      },
      "execution_count": null,
      "outputs": [
        {
          "output_type": "execute_result",
          "data": {
            "text/plain": [
              "'AEIOU'"
            ],
            "application/vnd.google.colaboratory.intrinsic+json": {
              "type": "string"
            }
          },
          "metadata": {},
          "execution_count": 11
        }
      ]
    },
    {
      "cell_type": "code",
      "source": [
        ""
      ],
      "metadata": {
        "id": "2jqL2lAA7Miq"
      },
      "execution_count": null,
      "outputs": []
    },
    {
      "cell_type": "markdown",
      "source": [
        "# Sets"
      ],
      "metadata": {
        "id": "GTlcWAX2_0R3"
      }
    },
    {
      "cell_type": "code",
      "source": [
        "tot_sets = int(input())\n",
        "\n",
        "for i in range(tot_sets):\n",
        "  len_setA = int(input())\n",
        "  setA = list(input().split())\n",
        "  len_setB = int(input())\n",
        "  setB = list(input().split())\n",
        "  print(isSubset(setA, setB))\n",
        "\n",
        "#for i in range(tot_sets):\n",
        " # print(IsSubset(list_setA[i], list_setB[i]))"
      ],
      "metadata": {
        "id": "odS__6M7_1sY",
        "outputId": "b5794d30-74c2-4cc7-9e5d-567e540ead29",
        "colab": {
          "base_uri": "https://localhost:8080/"
        }
      },
      "execution_count": null,
      "outputs": [
        {
          "output_type": "stream",
          "name": "stdout",
          "text": [
            "3\n",
            "5\n",
            "1 2 3 4 5\n",
            "9\n",
            "9 8 5 6 3 2 1 4 7\n",
            "True\n",
            "1\n",
            "2\n",
            "5\n",
            "3 6 5 4 14\n",
            "False\n",
            "7\n",
            "1 2 3 5 6 8 9\n",
            "3\n",
            "9 8 2\n",
            "False\n"
          ]
        }
      ]
    },
    {
      "cell_type": "code",
      "source": [
        "def isSubset(setA, setB):\n",
        "  isSubset = False\n",
        "  for i in range(len(setA)):\n",
        "    if setA[i] in setB:\n",
        "      isSubset = True\n",
        "    else:\n",
        "      isSubset = False\n",
        "      break\n",
        "  return isSubset"
      ],
      "metadata": {
        "id": "h5eqQ73lBL9w"
      },
      "execution_count": null,
      "outputs": []
    },
    {
      "cell_type": "code",
      "source": [
        ""
      ],
      "metadata": {
        "id": "8w8Wz_w7FWN-"
      },
      "execution_count": null,
      "outputs": []
    },
    {
      "cell_type": "code",
      "source": [
        "setA = list(input().split())\n",
        "tot_checkSet = int(input())\n",
        "isSuperSet = False\n",
        "for i in range(tot_checkSet):\n",
        "  checkSet = list(input().split())\n",
        "  if(isSubset(checkSet, setA)):\n",
        "    isSuperSet = True\n",
        "  else:\n",
        "    isSuperSet = False\n",
        "    break\n",
        "print(isSuperSet)\n"
      ],
      "metadata": {
        "id": "NlWg0Pi8DoKo",
        "outputId": "bd4ef686-f8df-4567-c036-e37ecfdfd2fe",
        "colab": {
          "base_uri": "https://localhost:8080/"
        }
      },
      "execution_count": null,
      "outputs": [
        {
          "output_type": "stream",
          "name": "stdout",
          "text": [
            "1 2 3 4 5 6 7 8 9 10 11 12 23 45 84 78\n",
            "2\n",
            "1 2 3 4 5\n",
            "100 11 12\n",
            "False\n"
          ]
        }
      ]
    },
    {
      "cell_type": "code",
      "source": [
        "True and False"
      ],
      "metadata": {
        "id": "2ghkWF5KF_Kj",
        "outputId": "4ad27bc2-5085-41e7-92be-cab3ca0407d5",
        "colab": {
          "base_uri": "https://localhost:8080/"
        }
      },
      "execution_count": null,
      "outputs": [
        {
          "output_type": "execute_result",
          "data": {
            "text/plain": [
              "False"
            ]
          },
          "metadata": {},
          "execution_count": 47
        }
      ]
    },
    {
      "cell_type": "code",
      "source": [
        ""
      ],
      "metadata": {
        "id": "nnc3f9R0GcGw"
      },
      "execution_count": null,
      "outputs": []
    },
    {
      "cell_type": "markdown",
      "source": [
        "# Math"
      ],
      "metadata": {
        "id": "K2DLJylMQIrG"
      }
    },
    {
      "cell_type": "code",
      "source": [
        "import cmath"
      ],
      "metadata": {
        "id": "s0WjNjDuQiZ_"
      },
      "execution_count": null,
      "outputs": []
    },
    {
      "cell_type": "code",
      "source": [
        "cmath.phase(complex(1,2))"
      ],
      "metadata": {
        "id": "H_CFg0vUQKtV",
        "outputId": "4965667f-fd89-4c73-83c5-1d031f05e86e",
        "colab": {
          "base_uri": "https://localhost:8080/"
        }
      },
      "execution_count": null,
      "outputs": [
        {
          "output_type": "execute_result",
          "data": {
            "text/plain": [
              "1.1071487177940904"
            ]
          },
          "metadata": {},
          "execution_count": 60
        }
      ]
    },
    {
      "cell_type": "code",
      "source": [
        "abs(complex(1,2))"
      ],
      "metadata": {
        "id": "AbAj87DdQ5P5",
        "outputId": "e11ce155-70af-4f93-a518-513b4ec5e09e",
        "colab": {
          "base_uri": "https://localhost:8080/"
        }
      },
      "execution_count": null,
      "outputs": [
        {
          "output_type": "execute_result",
          "data": {
            "text/plain": [
              "2.23606797749979"
            ]
          },
          "metadata": {},
          "execution_count": 61
        }
      ]
    },
    {
      "cell_type": "code",
      "source": [
        "abs(complex(1 + 2j))"
      ],
      "metadata": {
        "id": "7C85zSMPRECY",
        "outputId": "e7f14559-e8b9-474a-ccde-4439d046c93f",
        "colab": {
          "base_uri": "https://localhost:8080/"
        }
      },
      "execution_count": null,
      "outputs": [
        {
          "output_type": "execute_result",
          "data": {
            "text/plain": [
              "2.23606797749979"
            ]
          },
          "metadata": {},
          "execution_count": 64
        }
      ]
    },
    {
      "cell_type": "code",
      "source": [
        "str(round(math.degrees(math.atan2(10,20)))) + '°'"
      ],
      "metadata": {
        "id": "atMflrePRWkq",
        "outputId": "3e71870d-008c-4ba1-db13-4a10e92601c6",
        "colab": {
          "base_uri": "https://localhost:8080/",
          "height": 35
        }
      },
      "execution_count": null,
      "outputs": [
        {
          "output_type": "execute_result",
          "data": {
            "text/plain": [
              "'27°'"
            ],
            "application/vnd.google.colaboratory.intrinsic+json": {
              "type": "string"
            }
          },
          "metadata": {},
          "execution_count": 70
        }
      ]
    },
    {
      "cell_type": "code",
      "source": [
        ""
      ],
      "metadata": {
        "id": "SwXu6nSXTRaf"
      },
      "execution_count": null,
      "outputs": []
    },
    {
      "cell_type": "code",
      "source": [
        "x, y = map(int, input().split())\n",
        "val = eval(input())\n",
        "print(val == y)"
      ],
      "metadata": {
        "id": "D6gySgP4a5ac",
        "outputId": "c0ade137-7841-4f4b-f924-da4844e8e5ef",
        "colab": {
          "base_uri": "https://localhost:8080/"
        }
      },
      "execution_count": null,
      "outputs": [
        {
          "output_type": "stream",
          "name": "stdout",
          "text": [
            "1 3\n",
            "x**3 + x**2 + x + 1\n",
            "False\n"
          ]
        }
      ]
    },
    {
      "cell_type": "code",
      "source": [
        "eval(input())"
      ],
      "metadata": {
        "id": "xGyuVYWXbKFa",
        "outputId": "4806c320-381c-4538-c3dc-1c051e4479de",
        "colab": {
          "base_uri": "https://localhost:8080/"
        }
      },
      "execution_count": null,
      "outputs": [
        {
          "output_type": "stream",
          "name": "stdout",
          "text": [
            "print(2+10)\n",
            "12\n"
          ]
        }
      ]
    },
    {
      "cell_type": "code",
      "source": [
        "a, myList = int(input()), input().split()\n",
        "print(all([int(i) > 0 for i in myList]) and any([j == j[::-1] for j in myList]))"
      ],
      "metadata": {
        "id": "OFVJ2no9cs2a",
        "outputId": "ad90a9d2-337d-406e-8c03-cd89c9f4e652",
        "colab": {
          "base_uri": "https://localhost:8080/"
        }
      },
      "execution_count": null,
      "outputs": [
        {
          "output_type": "stream",
          "name": "stdout",
          "text": [
            "6\n",
            "1 2 3 4 5 -9\n",
            "False\n"
          ]
        }
      ]
    },
    {
      "cell_type": "code",
      "source": [
        "all([5 > 4 and 2==2])"
      ],
      "metadata": {
        "id": "0-njBn3wdnCo",
        "outputId": "063d88ef-674d-4bbf-8062-022087a9d938",
        "colab": {
          "base_uri": "https://localhost:8080/"
        }
      },
      "execution_count": null,
      "outputs": [
        {
          "output_type": "execute_result",
          "data": {
            "text/plain": [
              "True"
            ]
          },
          "metadata": {},
          "execution_count": 92
        }
      ]
    },
    {
      "cell_type": "code",
      "source": [
        "print(zip([1, 2, 3, 4], 'hack'))"
      ],
      "metadata": {
        "id": "LvYIqWJDgP3C",
        "outputId": "0b984ae3-e9e4-4590-f606-7c0dc7a65129",
        "colab": {
          "base_uri": "https://localhost:8080/"
        }
      },
      "execution_count": null,
      "outputs": [
        {
          "output_type": "stream",
          "name": "stdout",
          "text": [
            "<zip object at 0x7fb32546ce60>\n"
          ]
        }
      ]
    },
    {
      "cell_type": "code",
      "source": [
        ""
      ],
      "metadata": {
        "id": "9wqplt7YiMT_"
      },
      "execution_count": null,
      "outputs": []
    },
    {
      "cell_type": "markdown",
      "source": [
        "# Numpy"
      ],
      "metadata": {
        "id": "xrkGEoYfC_RC"
      }
    },
    {
      "cell_type": "code",
      "source": [
        "import numpy as np"
      ],
      "metadata": {
        "id": "sP_nfmLHDBWm"
      },
      "execution_count": null,
      "outputs": []
    },
    {
      "cell_type": "code",
      "source": [
        "shape = list(map(int, input().split()))\n",
        "print(np.zeros(shape, dtype=np.int))\n",
        "print(np.ones(shape, dtype = np.int))"
      ],
      "metadata": {
        "id": "FtuEN2BLDt-A",
        "outputId": "a87cf754-1094-405a-bf1c-637d2f1b32fd",
        "colab": {
          "base_uri": "https://localhost:8080/"
        }
      },
      "execution_count": null,
      "outputs": [
        {
          "output_type": "stream",
          "name": "stdout",
          "text": [
            "3 3 3\n",
            "[[[0 0 0]\n",
            "  [0 0 0]\n",
            "  [0 0 0]]\n",
            "\n",
            " [[0 0 0]\n",
            "  [0 0 0]\n",
            "  [0 0 0]]\n",
            "\n",
            " [[0 0 0]\n",
            "  [0 0 0]\n",
            "  [0 0 0]]]\n",
            "[[[1 1 1]\n",
            "  [1 1 1]\n",
            "  [1 1 1]]\n",
            "\n",
            " [[1 1 1]\n",
            "  [1 1 1]\n",
            "  [1 1 1]]\n",
            "\n",
            " [[1 1 1]\n",
            "  [1 1 1]\n",
            "  [1 1 1]]]\n"
          ]
        },
        {
          "output_type": "stream",
          "name": "stderr",
          "text": [
            "/usr/local/lib/python3.7/dist-packages/ipykernel_launcher.py:2: DeprecationWarning: `np.int` is a deprecated alias for the builtin `int`. To silence this warning, use `int` by itself. Doing this will not modify any behavior and is safe. When replacing `np.int`, you may wish to use e.g. `np.int64` or `np.int32` to specify the precision. If you wish to review your current use, check the release note link for additional information.\n",
            "Deprecated in NumPy 1.20; for more details and guidance: https://numpy.org/devdocs/release/1.20.0-notes.html#deprecations\n",
            "  \n",
            "/usr/local/lib/python3.7/dist-packages/ipykernel_launcher.py:3: DeprecationWarning: `np.int` is a deprecated alias for the builtin `int`. To silence this warning, use `int` by itself. Doing this will not modify any behavior and is safe. When replacing `np.int`, you may wish to use e.g. `np.int64` or `np.int32` to specify the precision. If you wish to review your current use, check the release note link for additional information.\n",
            "Deprecated in NumPy 1.20; for more details and guidance: https://numpy.org/devdocs/release/1.20.0-notes.html#deprecations\n",
            "  This is separate from the ipykernel package so we can avoid doing imports until\n"
          ]
        }
      ]
    },
    {
      "cell_type": "code",
      "source": [
        "print(np.zeros([3, 3, 3]))"
      ],
      "metadata": {
        "id": "3SvvDS7xDCy_",
        "outputId": "2924ff8c-9b06-44b9-92b9-ec6e0dba445f",
        "colab": {
          "base_uri": "https://localhost:8080/"
        }
      },
      "execution_count": null,
      "outputs": [
        {
          "output_type": "stream",
          "name": "stdout",
          "text": [
            "[[[0. 0. 0.]\n",
            "  [0. 0. 0.]\n",
            "  [0. 0. 0.]]\n",
            "\n",
            " [[0. 0. 0.]\n",
            "  [0. 0. 0.]\n",
            "  [0. 0. 0.]]\n",
            "\n",
            " [[0. 0. 0.]\n",
            "  [0. 0. 0.]\n",
            "  [0. 0. 0.]]]\n"
          ]
        }
      ]
    },
    {
      "cell_type": "code",
      "source": [
        "myList = []\n",
        "r, c = tuple(map(int, input().split()))\n",
        "for i in range(r):\n",
        "  myList.append(list(map(int, input().split())))\n",
        "print(np.transpose(np.array(myList)))\n",
        "print(np.array(myList).flatten())"
      ],
      "metadata": {
        "id": "zJmQ_GL5DXg2",
        "outputId": "bf8a21c6-2868-4dd0-def5-ddf09c789730",
        "colab": {
          "base_uri": "https://localhost:8080/"
        }
      },
      "execution_count": null,
      "outputs": [
        {
          "output_type": "stream",
          "name": "stdout",
          "text": [
            "2 2\n",
            "1 2\n",
            "3 4\n",
            "[[1 3]\n",
            " [2 4]]\n",
            "[1 2 3 4]\n"
          ]
        }
      ]
    },
    {
      "cell_type": "code",
      "source": [
        "list1 = []\n",
        "list2 = []\n",
        "n, m, p = tuple(map(int, input().split()))\n",
        "for i in range(n):\n",
        "  list1.append(list(map(int, input().split())))\n",
        "for i in range(m):\n",
        "  list2.append(list(map(int, input().split())))\n",
        "np_array1 = np.array(list1, dtype = int)\n",
        "np_array2 = np.array(list2, dtype = int)\n",
        "print(np.concatenate(np.array(list1), np.array(list2)))"
      ],
      "metadata": {
        "id": "yyR5ZTaKyZky",
        "outputId": "9112eeb3-ef66-41a3-a939-d0b9ef2d4e58",
        "colab": {
          "base_uri": "https://localhost:8080/"
        }
      },
      "execution_count": null,
      "outputs": [
        {
          "name": "stdout",
          "output_type": "stream",
          "text": [
            "4 3 2\n",
            "1 2\n",
            "1 2\n",
            "1 2\n",
            "1 2\n",
            "3 4\n",
            "3 4\n",
            "3 4\n"
          ]
        }
      ]
    },
    {
      "cell_type": "code",
      "source": [
        "print(np.concatenate((np_array1, np_array2), axis = 0))"
      ],
      "metadata": {
        "id": "9dIGwGCs02cs",
        "outputId": "2a7d1182-0021-40b0-b3ba-7fc3796407da",
        "colab": {
          "base_uri": "https://localhost:8080/"
        }
      },
      "execution_count": null,
      "outputs": [
        {
          "output_type": "stream",
          "name": "stdout",
          "text": [
            "[[1 2]\n",
            " [1 2]\n",
            " [1 2]\n",
            " [1 2]\n",
            " [3 4]\n",
            " [3 4]\n",
            " [3 4]]\n"
          ]
        }
      ]
    },
    {
      "cell_type": "code",
      "source": [
        "print(np.eye(3, 3))"
      ],
      "metadata": {
        "id": "5apt6FMb3oaq",
        "outputId": "5d310b42-dba1-4385-f2ac-c7ccc33c4f3e",
        "colab": {
          "base_uri": "https://localhost:8080/"
        }
      },
      "execution_count": null,
      "outputs": [
        {
          "output_type": "stream",
          "name": "stdout",
          "text": [
            "[[1. 0. 0.]\n",
            " [0. 1. 0.]\n",
            " [0. 0. 1.]]\n"
          ]
        }
      ]
    },
    {
      "cell_type": "code",
      "source": [
        "n, m = tuple(map(int, input().split()))\n",
        "print(np.eye(n, m))"
      ],
      "metadata": {
        "id": "MUh6x33g2paz",
        "outputId": "8c8044e1-c943-4c32-c830-15889bfa8754",
        "colab": {
          "base_uri": "https://localhost:8080/"
        }
      },
      "execution_count": null,
      "outputs": [
        {
          "output_type": "stream",
          "name": "stdout",
          "text": [
            "3 3\n",
            "[[1. 0. 0.]\n",
            " [0. 1. 0.]\n",
            " [0. 0. 1.]]\n"
          ]
        }
      ]
    },
    {
      "cell_type": "code",
      "source": [
        "np_array = list({1, 3, 5, 2, 2})"
      ],
      "metadata": {
        "id": "OUI6hSsF4Eyd"
      },
      "execution_count": null,
      "outputs": []
    },
    {
      "cell_type": "code",
      "source": [
        "np_array"
      ],
      "metadata": {
        "id": "9bZzqNye7SD7",
        "outputId": "c306f9a6-6bed-4a51-e6be-8cfd4dae6726",
        "colab": {
          "base_uri": "https://localhost:8080/"
        }
      },
      "execution_count": null,
      "outputs": [
        {
          "output_type": "execute_result",
          "data": {
            "text/plain": [
              "[1, 2, 3, 5]"
            ]
          },
          "metadata": {},
          "execution_count": 48
        }
      ]
    },
    {
      "cell_type": "code",
      "source": [
        "np_array[:2]"
      ],
      "metadata": {
        "id": "dQ-sT6k46m7H",
        "outputId": "c01eb841-2cec-4604-cc42-9ff9ea5690a7",
        "colab": {
          "base_uri": "https://localhost:8080/"
        }
      },
      "execution_count": null,
      "outputs": [
        {
          "output_type": "execute_result",
          "data": {
            "text/plain": [
              "[1, 2]"
            ]
          },
          "metadata": {},
          "execution_count": 46
        }
      ]
    },
    {
      "cell_type": "code",
      "source": [
        "np_array[2:]"
      ],
      "metadata": {
        "id": "BjFQyvNp6pN3",
        "outputId": "5b3e0c3a-f8ea-42fd-f41d-13e97ad83b74",
        "colab": {
          "base_uri": "https://localhost:8080/"
        }
      },
      "execution_count": null,
      "outputs": [
        {
          "output_type": "execute_result",
          "data": {
            "text/plain": [
              "[3, 5]"
            ]
          },
          "metadata": {},
          "execution_count": 47
        }
      ]
    },
    {
      "cell_type": "code",
      "source": [
        "for i in range(2,5):\n",
        "  print(i)"
      ],
      "metadata": {
        "id": "_5f-BJue7N6X",
        "outputId": "b32542f2-722b-4aea-8f0c-a8e4f1081a73",
        "colab": {
          "base_uri": "https://localhost:8080/"
        }
      },
      "execution_count": null,
      "outputs": [
        {
          "output_type": "stream",
          "name": "stdout",
          "text": [
            "2\n",
            "3\n",
            "4\n"
          ]
        }
      ]
    },
    {
      "cell_type": "code",
      "source": [
        ""
      ],
      "metadata": {
        "id": "Zi3nPXUf8rUc"
      },
      "execution_count": null,
      "outputs": []
    },
    {
      "cell_type": "code",
      "source": [
        "equalSum([1,3,5,2,2], 5 )"
      ],
      "metadata": {
        "id": "KRxGcYeE9YOc",
        "outputId": "8f2e17b8-47de-4b62-8c7d-5be31ec131cf",
        "colab": {
          "base_uri": "https://localhost:8080/"
        }
      },
      "execution_count": null,
      "outputs": [
        {
          "output_type": "stream",
          "name": "stdout",
          "text": [
            "3\n"
          ]
        }
      ]
    },
    {
      "cell_type": "code",
      "source": [
        "equalSum(list(map(int, '4 42 27 16 28 3 4 5 9 3 31 5 5 29 10 18 35 35 33 19 41 23 8 32 9 5 8 18 35 13 6 7 6 10 11 13 37 2 25 7 28 43'.split())), 42)"
      ],
      "metadata": {
        "id": "qoyypGjp9nav",
        "outputId": "d12641ca-516e-498c-83f2-2461cef29bd1",
        "colab": {
          "base_uri": "https://localhost:8080/"
        }
      },
      "execution_count": null,
      "outputs": [
        {
          "output_type": "stream",
          "name": "stdout",
          "text": [
            "0\n"
          ]
        }
      ]
    },
    {
      "cell_type": "code",
      "source": [
        "n, m = tuple(map(int, input().split()))\n",
        "num_A = np.zeros((n,m), int)\n",
        "num_B = np.zeros((n,m), int)\n",
        "for i in range(n):\n",
        "    num_A[i] = np.array(input().split(), int)\n",
        "\n",
        "for i in range(n):\n",
        "    num_B[i] = np.array(input().split(), int)\n",
        "\n",
        "print(np.add(num_A, num_B))\n",
        "print(np.subtract(num_A, num_B))\n",
        "print(np.multiply(num_A, num_B))\n",
        "print(np.floor_divide(num_A, num_B))\n",
        "print(np.mod(num_A, num_B))\n",
        "print(np.power(num_A, num_B))"
      ],
      "metadata": {
        "id": "6LdG5U3q-y5Q",
        "colab": {
          "base_uri": "https://localhost:8080/"
        },
        "outputId": "8601ad20-e21d-4296-e422-b23153ebdff7"
      },
      "execution_count": null,
      "outputs": [
        {
          "output_type": "stream",
          "name": "stdout",
          "text": [
            "1 4\n",
            "1 2 3 4\n",
            "5 6 7 8\n",
            "[[ 6  8 10 12]]\n",
            "[[-4 -4 -4 -4]]\n",
            "[[ 5 12 21 32]]\n",
            "[[0 0 0 0]]\n",
            "[[1 2 3 4]]\n",
            "[[    1    64  2187 65536]]\n"
          ]
        }
      ]
    },
    {
      "cell_type": "code",
      "source": [
        "n, m = tuple(map(int, input().split()))\n",
        "myList = []\n",
        "for i in range(n):\n",
        "  myList.append(tuple(map(int, input().split())))\n",
        "print(np.prod(np.array(myList)))"
      ],
      "metadata": {
        "id": "y4OZIyD0lVXh",
        "outputId": "d1e5720a-9be6-4324-ac09-5436ba5283ad",
        "colab": {
          "base_uri": "https://localhost:8080/"
        }
      },
      "execution_count": null,
      "outputs": [
        {
          "output_type": "stream",
          "name": "stdout",
          "text": [
            "2 2\n",
            "1 2\n",
            "3 2\n",
            "12\n"
          ]
        }
      ]
    },
    {
      "cell_type": "code",
      "source": [
        "n, m = tuple(map(int, input().split()))\n",
        "myList = []\n",
        "for i in range(n):\n",
        "    myList.append(tuple(map(int, input().split())))\n",
        "\n",
        "print(np.mean(np.array(myList), axis =1))\n",
        "print(np.var(np.array(myList), axis =0))\n",
        "print(np.std(np.array(myList)))"
      ],
      "metadata": {
        "id": "kAIAZX-6XkyH",
        "outputId": "b0214f77-fc87-4117-d4a5-da0e8b75ebec",
        "colab": {
          "base_uri": "https://localhost:8080/"
        }
      },
      "execution_count": null,
      "outputs": [
        {
          "output_type": "stream",
          "name": "stdout",
          "text": [
            "2 2\n",
            "1 2\n",
            "3 4\n",
            "[1.5 3.5]\n",
            "[1. 1.]\n",
            "1.118033988749895\n"
          ]
        }
      ]
    },
    {
      "cell_type": "code",
      "source": [
        "print(round(np.std(np.array(myList)), 11))"
      ],
      "metadata": {
        "id": "1F3lDejVXkut",
        "outputId": "33dda360-2d43-4e5e-c62e-5e9400338ce4",
        "colab": {
          "base_uri": "https://localhost:8080/"
        }
      },
      "execution_count": null,
      "outputs": [
        {
          "output_type": "stream",
          "name": "stdout",
          "text": [
            "1.11803398875\n"
          ]
        }
      ]
    },
    {
      "cell_type": "markdown",
      "source": [
        "MATRIX Multiplication"
      ],
      "metadata": {
        "id": "M8PCBenLfHAV"
      }
    },
    {
      "cell_type": "code",
      "source": [
        "n = int(input())\n",
        "    \n",
        "A = np.array([input().split() for i in range(n)], int)\n",
        "B = np.array([input().split() for i in range(n)], int)\n",
        "\n",
        "print(np.dot(A, B))"
      ],
      "metadata": {
        "id": "q8l66df8Xksb",
        "outputId": "0381c6ae-d6f1-4a27-c9b0-0641f3aaf2e9",
        "colab": {
          "base_uri": "https://localhost:8080/"
        }
      },
      "execution_count": null,
      "outputs": [
        {
          "output_type": "stream",
          "name": "stdout",
          "text": [
            "2\n",
            "1 2\n",
            "3 4\n",
            "1 2\n",
            "3 4\n",
            "[[ 7 10]\n",
            " [15 22]]\n"
          ]
        }
      ]
    },
    {
      "cell_type": "code",
      "source": [
        "A = np.array(input().split(), int)\n",
        "B = np.array(input().split(), int)\n",
        "print(np.inner(A,B))\n",
        "print(np.outer(A,B))"
      ],
      "metadata": {
        "id": "oLINDnc-Xkp-",
        "outputId": "7d026b50-ca74-42fe-9763-cc5879ae843f",
        "colab": {
          "base_uri": "https://localhost:8080/"
        }
      },
      "execution_count": null,
      "outputs": [
        {
          "output_type": "stream",
          "name": "stdout",
          "text": [
            "1 2\n",
            "3 4\n",
            "11\n",
            "[[3 4]\n",
            " [6 8]]\n"
          ]
        }
      ]
    },
    {
      "cell_type": "code",
      "source": [
        " n = int(input())\n",
        "myList = []\n",
        "\n",
        "for i in range(n):\n",
        "    myList.append(list(map(float, input().split())))\n",
        "\n",
        "print(np.linalg.det(myList))"
      ],
      "metadata": {
        "id": "eu_U6ohIi46d",
        "outputId": "a0d01693-9a31-46cf-a007-a6ce4e503609",
        "colab": {
          "base_uri": "https://localhost:8080/"
        }
      },
      "execution_count": null,
      "outputs": [
        {
          "output_type": "stream",
          "name": "stdout",
          "text": [
            "2\n",
            "1.1 1.1\n",
            "1.1 1.2\n",
            "0.10999999999999982\n"
          ]
        }
      ]
    },
    {
      "cell_type": "code",
      "source": [
        ""
      ],
      "metadata": {
        "id": "79iAyybbi43G"
      },
      "execution_count": null,
      "outputs": []
    },
    {
      "cell_type": "code",
      "source": [
        ""
      ],
      "metadata": {
        "id": "3-yiB_6ci40D"
      },
      "execution_count": null,
      "outputs": []
    },
    {
      "cell_type": "markdown",
      "source": [
        "# Exceptions"
      ],
      "metadata": {
        "id": "GnFmg__5nnWM"
      }
    },
    {
      "cell_type": "code",
      "source": [
        "n = int(input())\n",
        "for i in range(n):\n",
        "    try:\n",
        "      a, b = tuple(map(str, input().split()))\n",
        "      char = ''\n",
        "      if(str.isnumeric(a)):\n",
        "          char = b\n",
        "      else:\n",
        "          char = a\n",
        "      print(int(int(a)/int(b)))\n",
        "    except ZeroDivisionError as e:\n",
        "        print('Error Code: integer division or modulo by zero')\n",
        "    except ValueError as f:\n",
        "        print(f\"Error Code: invalid literal for int() with base 10: '{char}'\")"
      ],
      "metadata": {
        "id": "PJQZD_Hpi4uZ",
        "outputId": "cd68e586-b143-4d35-abd6-35f55a9fcaaf",
        "colab": {
          "base_uri": "https://localhost:8080/"
        }
      },
      "execution_count": null,
      "outputs": [
        {
          "output_type": "stream",
          "name": "stdout",
          "text": [
            "3\n",
            "# #\n",
            "Error Code: invalid literal for int() with base 10: '#'\n",
            "% $\n",
            "Error Code: invalid literal for int() with base 10: '%'\n",
            "2 1\n",
            "2\n"
          ]
        }
      ]
    },
    {
      "cell_type": "code",
      "source": [
        "import re\n",
        "\n",
        "def isvalidregex(regex):\n",
        "    try: re.compile(regex)\n",
        "    except re.error: return False\n",
        "    return True\n",
        "\n",
        "for i in range(int(input())):\n",
        "    print(isvalidregex(input()))"
      ],
      "metadata": {
        "id": "Qw4pMhHUsRE0",
        "outputId": "bede94fd-8d0b-439f-e97b-8033934fe18c",
        "colab": {
          "base_uri": "https://localhost:8080/"
        }
      },
      "execution_count": null,
      "outputs": [
        {
          "output_type": "stream",
          "name": "stdout",
          "text": [
            "3\n",
            ".*\\+\n",
            "True\n",
            ".*+\n",
            "False\n",
            "##$\n",
            "True\n"
          ]
        }
      ]
    },
    {
      "cell_type": "code",
      "source": [
        ""
      ],
      "metadata": {
        "id": "8c4k3CbdsRBO"
      },
      "execution_count": null,
      "outputs": []
    },
    {
      "cell_type": "code",
      "source": [
        ""
      ],
      "metadata": {
        "id": "o5x3vxjYsQ--"
      },
      "execution_count": null,
      "outputs": []
    },
    {
      "cell_type": "code",
      "source": [
        ""
      ],
      "metadata": {
        "id": "atFBPyo2RWif"
      },
      "execution_count": null,
      "outputs": []
    },
    {
      "cell_type": "markdown",
      "source": [
        "# Lambda Function"
      ],
      "metadata": {
        "id": "9tHXYETB7PDD"
      }
    },
    {
      "cell_type": "code",
      "source": [
        "cube = lambda x: x**3\n",
        "\n",
        "def fibonacci(n):\n",
        "  if n<2:\n",
        "    return [0]*n\n",
        "  lst = [0, 1]\n",
        "  for i in range(2, n):\n",
        "    lst.append(lst[i-1] + lst[i-2])\n",
        "  return lst"
      ],
      "metadata": {
        "id": "6V2AkYwGsQ83"
      },
      "execution_count": null,
      "outputs": []
    },
    {
      "cell_type": "code",
      "source": [
        "list(map(cube, fibonacci(4)))"
      ],
      "metadata": {
        "colab": {
          "base_uri": "https://localhost:8080/"
        },
        "id": "7A7mlTYD8KmT",
        "outputId": "367b355b-eb1c-4d2b-bd60-6501b5d29e4b"
      },
      "execution_count": null,
      "outputs": [
        {
          "output_type": "execute_result",
          "data": {
            "text/plain": [
              "[0, 1, 1, 8]"
            ]
          },
          "metadata": {},
          "execution_count": 19
        }
      ]
    },
    {
      "cell_type": "markdown",
      "source": [
        "Email Verification"
      ],
      "metadata": {
        "id": "xSGgpTblQ_MM"
      }
    },
    {
      "cell_type": "code",
      "source": [
        "def fun(email):\n",
        "  body_tail = email.split('@')\n",
        "  if(len(body_tail) > 2):\n",
        "    print('1')\n",
        "    return False\n",
        "  \n",
        "  username, website, domain = (body_tail[0], body_tail[1].split('.')[0], body_tail[1].split('.')[1]) \n",
        "  if(len(domain) > 3):\n",
        "    print('2')\n",
        "    return False\n",
        "  if(username.replace('-', '').replace('_', '').isalnum() == False):\n",
        "    print('3')\n",
        "    return False\n",
        "  if(website.isalnum() == False):\n",
        "    print('4')\n",
        "    return False\n",
        "  if(domain.isalpha() == False):\n",
        "    print('5')\n",
        "    return False\n",
        "  return True\n",
        "  \n",
        "def filter_mail(emails):\n",
        "  return list(filter(fun, emails))"
      ],
      "metadata": {
        "id": "x_ZZ6dUXQ-H0"
      },
      "execution_count": null,
      "outputs": []
    },
    {
      "cell_type": "code",
      "source": [
        "emails = ['lara@hackerrank.com', 'brian-23@hackerrank.com', 'britts_54@hackerrank.com']\n",
        "#print(filter_mail(emails))\n",
        "filtered_emails = filter_mail(emails)\n",
        "filtered_emails.sort()\n",
        "print(filtered_emails)"
      ],
      "metadata": {
        "colab": {
          "base_uri": "https://localhost:8080/"
        },
        "id": "O7KGNH2oZrxQ",
        "outputId": "f7eac7fe-3ca0-4b51-e7c4-851a06bdd619"
      },
      "execution_count": null,
      "outputs": [
        {
          "output_type": "stream",
          "name": "stdout",
          "text": [
            "['brian-23@hackerrank.com', 'britts_54@hackerrank.com', 'lara@hackerrank.com']\n"
          ]
        }
      ]
    },
    {
      "cell_type": "code",
      "source": [
        "fun(emails[0])"
      ],
      "metadata": {
        "colab": {
          "base_uri": "https://localhost:8080/"
        },
        "id": "34c7p3BqZrmM",
        "outputId": "42f9124a-93fe-4044-9822-fe8595c44656"
      },
      "execution_count": null,
      "outputs": [
        {
          "output_type": "execute_result",
          "data": {
            "text/plain": [
              "True"
            ]
          },
          "metadata": {},
          "execution_count": 21
        }
      ]
    },
    {
      "cell_type": "code",
      "source": [
        "'-' in 'asda123-__#asdas@ada21da.com'"
      ],
      "metadata": {
        "colab": {
          "base_uri": "https://localhost:8080/"
        },
        "id": "XWMnAS83Ykv_",
        "outputId": "782e8cd4-252d-435f-d112-9aac99d18729"
      },
      "execution_count": null,
      "outputs": [
        {
          "output_type": "execute_result",
          "data": {
            "text/plain": [
              "True"
            ]
          },
          "metadata": {},
          "execution_count": 73
        }
      ]
    },
    {
      "cell_type": "code",
      "source": [
        "filter_email('asda123-__asdas@ada21da.com')"
      ],
      "metadata": {
        "id": "S96ZJ_g2Q-LV"
      },
      "execution_count": null,
      "outputs": []
    },
    {
      "cell_type": "code",
      "source": [
        "def fun(s):\n",
        "    try: \n",
        "        body_tail = s.split('@')\n",
        "        if(len(body_tail) is not 2):\n",
        "            return False\n",
        "        username, extension = (body_tail[0], body_tail[1])\n",
        "        if(len(extension.split('.')) is not 2 ):\n",
        "            return False\n",
        "        website, domain = (extension.split('.')[0], extension.split('.')[1])\n",
        "    \n",
        "    except ValueError:\n",
        "        return False\n",
        "        \n",
        "    if(len(body_tail) > 2):\n",
        "        return False\n",
        "      \n",
        "    if(len(domain) > 3):\n",
        "        return False\n",
        "    if(username.replace('-', '').replace('_', '').isalnum() == False):\n",
        "        return False\n",
        "    if(website.isalnum() == False):\n",
        "        return False\n",
        "    if(domain.isalpha() == False):\n",
        "        return False\n",
        "    print(s)\n",
        "    return True\n",
        "    \n",
        "    \n",
        "def filter_mail(emails):\n",
        "    return list(filter(fun, emails))\n",
        "\n",
        "if __name__ == '__main__':\n",
        "    n = int(input())\n",
        "    emails = []\n",
        "    for _ in range(n):\n",
        "        emails.append(input())\n",
        "    filtered_emails = filter_mail(emails)\n",
        "    filtered_emails.sort()\n",
        "    print(filtered_emails)"
      ],
      "metadata": {
        "colab": {
          "base_uri": "https://localhost:8080/"
        },
        "id": "Jm2pP2R8aueC",
        "outputId": "e52bf113-22c3-47bf-ee16-177cc1d25ae8"
      },
      "execution_count": null,
      "outputs": [
        {
          "output_type": "stream",
          "name": "stdout",
          "text": [
            "2\n",
            "harsh@gmail\n",
            "iota_98@hackerrank.com\n",
            "iota_98@hackerrank.com\n",
            "['iota_98@hackerrank.com']\n"
          ]
        }
      ]
    },
    {
      "cell_type": "code",
      "source": [
        "if __name__ == '__main__':\n",
        "    n = int(input())\n",
        "    emails = []\n",
        "    for _ in range(n):\n",
        "        emails.append(input())\n",
        "    emails.sort()\n",
        "    print(emails)"
      ],
      "metadata": {
        "colab": {
          "base_uri": "https://localhost:8080/"
        },
        "id": "lMe_qGelVw-V",
        "outputId": "182383b9-d3dd-425b-814b-01826f852b85"
      },
      "execution_count": null,
      "outputs": [
        {
          "output_type": "stream",
          "name": "stdout",
          "text": [
            "3\n",
            "b\n",
            "a\n",
            "u\n",
            "['a', 'b', 'u']\n"
          ]
        }
      ]
    },
    {
      "cell_type": "code",
      "source": [
        "from fractions import Fraction\n",
        "from functools import reduce\n",
        "from fractions import gcd\n",
        "\n",
        "if __name__ == '__main__':\n",
        "    fracs = []\n",
        "    for _ in range(int(input())):\n",
        "        fracs.append(Fraction(*map(int, input().split())))\n",
        "    n = reduce(lambda x, y: x*y, fracs)\n",
        "    print(n.numerator, n.denominator)\n",
        "    #result = product(fracs)\n",
        "    #print(*result)"
      ],
      "metadata": {
        "colab": {
          "base_uri": "https://localhost:8080/"
        },
        "id": "DWSbKyeWUSBJ",
        "outputId": "482b0b29-6553-41fc-fb26-ae38eaa91050"
      },
      "execution_count": 7,
      "outputs": [
        {
          "output_type": "stream",
          "name": "stdout",
          "text": [
            "2\n",
            "1 2\n",
            "1 3\n",
            "1 6\n"
          ]
        }
      ]
    },
    {
      "cell_type": "code",
      "source": [
        "def product(fracs):\n",
        "    #t = # complete this line with a reduce statement\n",
        "    t = reduce(lambda x, y: x*y, fracs)\n",
        "    return t.numerator, t.denominator\n",
        "\n",
        "if __name__ == '__main__':\n",
        "    fracs = []\n",
        "    for _ in range(int(input())):\n",
        "        fracs.append(Fraction(*map(int, input().split())))\n",
        "    result = product(fracs)\n",
        "    print(*result)"
      ],
      "metadata": {
        "id": "om7hV4iOaPvb",
        "colab": {
          "base_uri": "https://localhost:8080/"
        },
        "outputId": "d53835ba-3d5e-4691-f846-cb645cb390d2"
      },
      "execution_count": 9,
      "outputs": [
        {
          "output_type": "stream",
          "name": "stdout",
          "text": [
            "3\n",
            "1 2\n",
            "3 4\n",
            "10 6\n",
            "5 8\n"
          ]
        }
      ]
    },
    {
      "cell_type": "code",
      "source": [
        "reduce(lambda x, y: x*y, [Fraction(1,2), Fraction(1,3)])"
      ],
      "metadata": {
        "id": "u1CMkoumaPsI",
        "colab": {
          "base_uri": "https://localhost:8080/"
        },
        "outputId": "f1aae556-78ac-4b63-9593-d41d2868fd55"
      },
      "execution_count": 5,
      "outputs": [
        {
          "output_type": "execute_result",
          "data": {
            "text/plain": [
              "Fraction(1, 6)"
            ]
          },
          "metadata": {},
          "execution_count": 5
        }
      ]
    },
    {
      "cell_type": "markdown",
      "source": [
        "# GFG Exams"
      ],
      "metadata": {
        "id": "8cqDeOVEXlmV"
      }
    },
    {
      "cell_type": "code",
      "source": [
        ""
      ],
      "metadata": {
        "id": "UhnLas8kXkna"
      },
      "execution_count": null,
      "outputs": []
    }
  ]
}